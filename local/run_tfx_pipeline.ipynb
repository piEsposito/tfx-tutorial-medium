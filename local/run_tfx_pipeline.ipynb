{
 "cells": [
  {
   "cell_type": "code",
   "execution_count": null,
   "id": "67afd211",
   "metadata": {},
   "outputs": [],
   "source": [
    "!git clone https://github.com/piEsposito/tfx-tutorial-medium.git\n",
    "!pip install -r requirements.txt\n",
    "!cd tfx-tutorial-medium/local"
   ]
  },
  {
   "cell_type": "code",
   "execution_count": null,
   "id": "f0ec292a-38a4-4e7c-b5be-a9bab7e25827",
   "metadata": {},
   "outputs": [],
   "source": [
    "from tfx import v1 as tfx\n",
    "from tfx.orchestration.experimental.interactive.interactive_context import InteractiveContext"
   ]
  },
  {
   "cell_type": "code",
   "execution_count": null,
   "id": "93be11e5-9059-48db-92f8-7e6fa74f0826",
   "metadata": {},
   "outputs": [],
   "source": [
    "context = InteractiveContext()"
   ]
  },
  {
   "cell_type": "code",
   "execution_count": null,
   "id": "06b6caa2-4403-4f57-90cd-c99cd9dca8ad",
   "metadata": {},
   "outputs": [],
   "source": [
    "example_gen = tfx.components.CsvExampleGen(input_base=\"data_local/\")\n",
    "context.run(example_gen)"
   ]
  },
  {
   "cell_type": "code",
   "execution_count": null,
   "id": "229baf23-924b-4ffc-a4f1-5caa3527b357",
   "metadata": {},
   "outputs": [],
   "source": [
    "statistics_gen = tfx.components.StatisticsGen(\n",
    "        examples=example_gen.outputs[\"examples\"]\n",
    "    )\n",
    "context.run(statistics_gen)"
   ]
  },
  {
   "cell_type": "code",
   "execution_count": null,
   "id": "8b0c85f9-b3fc-4f83-8e52-42ae544232ef",
   "metadata": {},
   "outputs": [],
   "source": [
    "schema_gen = tfx.components.SchemaGen(\n",
    "        statistics=statistics_gen.outputs[\"statistics\"],\n",
    "        infer_feature_shape=False,\n",
    "    )\n",
    "\n",
    "context.run(schema_gen)"
   ]
  },
  {
   "cell_type": "code",
   "execution_count": null,
   "id": "b0db6488-6b31-46cd-aa29-95939275c6d9",
   "metadata": {},
   "outputs": [],
   "source": [
    "transform = tfx.components.Transform(\n",
    "        examples=example_gen.outputs[\"examples\"],\n",
    "        schema=schema_gen.outputs[\"schema\"],\n",
    "        module_file=\"module.py\",\n",
    "    )\n",
    "\n",
    "context.run(transform)"
   ]
  },
  {
   "cell_type": "code",
   "execution_count": null,
   "id": "8fe67733-3284-476a-93b5-d8982cb1222d",
   "metadata": {},
   "outputs": [],
   "source": [
    "from tfx.proto import example_gen_pb2, pusher_pb2, trainer_pb2"
   ]
  },
  {
   "cell_type": "code",
   "execution_count": null,
   "id": "466e5dc9-fa74-4c76-a73e-bd90b6a0c741",
   "metadata": {},
   "outputs": [],
   "source": [
    "training_kwargs = {\n",
    "        \"module_file\": \"module.py\",\n",
    "        \"examples\": transform.outputs[\"transformed_examples\"],\n",
    "        \"transform_graph\": transform.outputs[\"transform_graph\"],\n",
    "        \"train_args\": trainer_pb2.TrainArgs(num_steps=100),\n",
    "        \"eval_args\": trainer_pb2.EvalArgs(num_steps=1),\n",
    "    }\n",
    "\n",
    "trainer = tfx.components.Trainer(**training_kwargs)\n",
    "context.run(trainer)"
   ]
  },
  {
   "cell_type": "code",
   "execution_count": null,
   "id": "724c4c10-018f-47c0-bc0f-cf252b3cfbee",
   "metadata": {},
   "outputs": [],
   "source": [
    "import tensorflow_model_analysis as tfma\n",
    "\n",
    "eval_config = tfma.EvalConfig(\n",
    "    model_specs=[\n",
    "        tfma.ModelSpec(\n",
    "            signature_name=\"serving_default\",\n",
    "            label_key=\"consumer_disputed\",\n",
    "            # preprocessing_function_names=[\"transform_features\"],\n",
    "        )\n",
    "    ],\n",
    "    slicing_specs=[tfma.SlicingSpec(), tfma.SlicingSpec(feature_keys=[\"product\"])],\n",
    "    metrics_specs=[\n",
    "        tfma.MetricsSpec(\n",
    "            metrics=[\n",
    "                tfma.MetricConfig(\n",
    "                    class_name=\"BinaryAccuracy\",\n",
    "                    threshold=tfma.MetricThreshold(\n",
    "                        value_threshold=tfma.GenericValueThreshold(\n",
    "                            lower_bound={\"value\": 0.65}\n",
    "                        ),\n",
    "                        change_threshold=tfma.GenericChangeThreshold(\n",
    "                            direction=tfma.MetricDirection.HIGHER_IS_BETTER,\n",
    "                            absolute={\"value\": -1e-10},\n",
    "                        ),\n",
    "                    ),\n",
    "                ),\n",
    "                tfma.MetricConfig(class_name=\"Precision\"),\n",
    "                tfma.MetricConfig(class_name=\"Recall\"),\n",
    "                tfma.MetricConfig(class_name=\"ExampleCount\"),\n",
    "                tfma.MetricConfig(class_name=\"AUC\"),\n",
    "            ],\n",
    "        )\n",
    "    ],\n",
    ")\n",
    "\n",
    "evaluator = tfx.components.Evaluator(\n",
    "    examples=example_gen.outputs[\"examples\"],\n",
    "    model=trainer.outputs[\"model\"],\n",
    "    eval_config=eval_config,\n",
    ")\n",
    "context.run(evaluator)"
   ]
  },
  {
   "cell_type": "code",
   "execution_count": null,
   "id": "c6bcb82e-6a80-4b66-97e6-26f2bdc1f9cf",
   "metadata": {},
   "outputs": [],
   "source": [
    "pusher = tfx.components.Pusher(\n",
    "    model=trainer.outputs[\"model\"],\n",
    "    model_blessing=evaluator.outputs[\"blessing\"],\n",
    "    push_destination=pusher_pb2.PushDestination(\n",
    "        filesystem=pusher_pb2.PushDestination.Filesystem(\n",
    "            base_directory=\"./model-output\"\n",
    "        )\n",
    "    ),\n",
    ")\n",
    "context.run(pusher)"
   ]
  },
  {
   "cell_type": "code",
   "execution_count": null,
   "id": "30cf288f",
   "metadata": {},
   "outputs": [],
   "source": []
  }
 ],
 "metadata": {
  "kernelspec": {
   "display_name": "Python 3.9.7 ('base')",
   "language": "python",
   "name": "python3"
  },
  "language_info": {
   "codemirror_mode": {
    "name": "ipython",
    "version": 3
   },
   "file_extension": ".py",
   "mimetype": "text/x-python",
   "name": "python",
   "nbconvert_exporter": "python",
   "pygments_lexer": "ipython3",
   "version": "3.9.7"
  },
  "vscode": {
   "interpreter": {
    "hash": "4763823ad4ce03a4b1bd69e516d8fdf187622dfd052355e5cc38827d0ccfa04b"
   }
  }
 },
 "nbformat": 4,
 "nbformat_minor": 5
}
