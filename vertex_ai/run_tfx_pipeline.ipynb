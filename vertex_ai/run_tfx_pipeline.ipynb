{
 "cells": [
  {
   "cell_type": "code",
   "execution_count": null,
   "id": "512fb3b0-1281-47f9-b31f-94dc8ce244e2",
   "metadata": {},
   "outputs": [],
   "source": [
    "import os\n",
    "!git clone https://github.com/piEsposito/tfx-tutorial-medium.git\n",
    "os.chdir(\"tfx-tutorial-medium/local\")\n",
    "!pip install -r requirements.txt"
   ]
  },
  {
   "cell_type": "code",
   "execution_count": null,
   "id": "77df87e2",
   "metadata": {},
   "outputs": [],
   "source": [
    "!gcloud auth application-default login\n",
    "!python pipeline_vertex.py"
   ]
  },
  {
   "cell_type": "code",
   "execution_count": null,
   "id": "6366d05b-2fec-4deb-a06d-f26863ccbaf8",
   "metadata": {},
   "outputs": [],
   "source": [
    "pipeline_file = \"tfx-tutorial-pi.json\"\n",
    "PROJECT = \"YOUR_PROJECT\"\n",
    "SERVICE_ACCOUNT = \"YOUR_SA\""
   ]
  },
  {
   "cell_type": "code",
   "execution_count": null,
   "id": "d6841994",
   "metadata": {},
   "outputs": [],
   "source": [
    "from google.cloud import aiplatform\n",
    "from google.cloud.aiplatform import pipeline_jobs"
   ]
  },
  {
   "cell_type": "code",
   "execution_count": null,
   "id": "1efc63fd-ec42-419e-8c7d-6ccab76e7906",
   "metadata": {},
   "outputs": [],
   "source": [
    "aiplatform.init(project=PROJECT, location=\"us-central1\")\n",
    "\n",
    "job = pipeline_jobs.PipelineJob(template_path=pipeline_file,\n",
    "                                 display_name=\"tfx-pi-tutorial\")\n",
    "job.run(sync=True,\n",
    "        service_account=SERVICE_ACCOUNT)"
   ]
  },
  {
   "cell_type": "code",
   "execution_count": null,
   "id": "25ad4209",
   "metadata": {},
   "outputs": [],
   "source": []
  }
 ],
 "metadata": {
  "kernelspec": {
   "display_name": "Python 3.9.7 ('base')",
   "language": "python",
   "name": "python3"
  },
  "language_info": {
   "codemirror_mode": {
    "name": "ipython",
    "version": 3
   },
   "file_extension": ".py",
   "mimetype": "text/x-python",
   "name": "python",
   "nbconvert_exporter": "python",
   "pygments_lexer": "ipython3",
   "version": "3.9.7"
  },
  "vscode": {
   "interpreter": {
    "hash": "4763823ad4ce03a4b1bd69e516d8fdf187622dfd052355e5cc38827d0ccfa04b"
   }
  }
 },
 "nbformat": 4,
 "nbformat_minor": 5
}
